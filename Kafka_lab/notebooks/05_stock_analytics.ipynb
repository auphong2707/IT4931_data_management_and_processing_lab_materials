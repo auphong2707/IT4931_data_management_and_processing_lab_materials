{
  "cells": [
    {
      "cell_type": "markdown",
      "metadata": {},
      "source": [
        "# Lab 5: Real-time Stock Analytics with Kafka\n",
        "\n",
        "## 🎯 Objectives\n",
        "- Build real-time stock analytics pipeline\n",
        "- Implement multiple consumer groups for different analytics\n",
        "- Practice stream processing patterns\n",
        "- Create real-time dashboards\n",
        "- Handle high-throughput data streams\n",
        "\n",
        "## 📋 Prerequisites\n",
        "- Labs 1-4 completed\n",
        "- Understanding of consumer groups and partitioning\n",
        "- Basic knowledge of data analytics\n",
        "\n",
        "## 🏗️ Architecture Overview\n",
        "```\n",
        "Stock Data Stream\n",
        "    ↓\n",
        "Multiple Consumer Groups\n",
        "├── Analytics Group (Real-time calculations)\n",
        "├── Alert Group (Price/volume alerts)\n",
        "├── Storage Group (Data persistence)\n",
        "└── Dashboard Group (UI updates)\n",
        "\n",
        "Real-time Analytics\n",
        "├── Moving Averages\n",
        "├── Price Alerts\n",
        "├── Volume Analysis\n",
        "└── Trend Detection\n",
        "```\n"
      ]
    }
  ],
  "metadata": {
    "language_info": {
      "name": "python"
    }
  },
  "nbformat": 4,
  "nbformat_minor": 2
}
