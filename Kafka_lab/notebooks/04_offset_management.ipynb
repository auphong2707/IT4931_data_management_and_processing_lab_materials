{
  "cells": [
    {
      "cell_type": "markdown",
      "metadata": {},
      "source": [
        "# Lab 4: Offset Management and Exactly-Once Processing\n",
        "\n",
        "## 🎯 Objectives\n",
        "- Understand Kafka offset management\n",
        "- Learn about different offset reset strategies\n",
        "- Practice manual offset commits\n",
        "- Explore exactly-once processing patterns\n",
        "- Handle consumer failures and recovery\n",
        "\n",
        "## 📋 Prerequisites\n",
        "- Lab 3 completed (Partitioning)\n",
        "- Understanding of consumer groups\n",
        "- Basic knowledge of distributed systems\n",
        "\n",
        "## 🏗️ Architecture Overview\n",
        "```\n",
        "Stock Data Topic\n",
        "    ↓\n",
        "Consumer Group\n",
        "├── Consumer 1 (Offset: 100)\n",
        "├── Consumer 2 (Offset: 150)\n",
        "└── Consumer 3 (Offset: 200)\n",
        "\n",
        "Offset Management\n",
        "├── Auto Commit (Default)\n",
        "├── Manual Commit (Reliable)\n",
        "└── Exactly-Once (Transactional)\n",
        "```\n"
      ]
    }
  ],
  "metadata": {
    "language_info": {
      "name": "python"
    }
  },
  "nbformat": 4,
  "nbformat_minor": 2
}
